{
 "cells": [
  {
   "cell_type": "code",
   "execution_count": 191,
   "id": "d867c95d",
   "metadata": {},
   "outputs": [],
   "source": [
    "from qiskit.circuit import QuantumCircuit, QuantumRegister, AncillaRegister, Parameter\n",
    "from qiskit.quantum_info import Statevector, Operator\n",
    "from qiskit import transpile\n",
    "\n",
    "\n",
    "import matplotlib.pyplot as plt\n",
    "\n",
    "import numpy as np"
   ]
  },
  {
   "cell_type": "markdown",
   "id": "f2063e7f",
   "metadata": {},
   "source": [
    "# Overview \n",
    "\n",
    "Let $n\\in \\mathbb{N}$ and let $U\\in \\mathcal{U}(2)$. We define the {\\em multi-controlled $U$ gate} on a computational basis vector $\\ket{x}_n\\ket{y}\\in \\mathbb{C}^{2^n}\\otimes \\mathbb{C}^2$ by\n",
    "$$\n",
    "    (C^nU)\\ket{x}_n\\ket{y}\n",
    "    =\n",
    "    \\begin{cases}\n",
    "    \\ket{x}_n U\\ket{y} \\quad \\text{ if }x_i=1 \\,\\forall i\\in [n]\\\\\n",
    "    \\ket{x}_n \\ket{y} \\quad \\text{ else } \n",
    "    \\end{cases}.\n",
    "$$\n",
    "\n",
    "Prompt: Define a function which implements $C^nU$ using only single-qubit gates and CX. \n",
    "\n",
    "Sources: Our sources for algorithms are \n",
    "1. *Quantum Information and Quantum Computation*, Nielsen and Chuang.\n",
    "2. *Elementary gates for quantum computation*, Barenco-Bennett-Cleve-DiVicenzo-Margolus-Shor-Sleator-Smolin-Weinfurter (1995).\n",
    "\n",
    "Methods: We have attempted a couple implementations of mcu(n,U), including:\n",
    "\n",
    "A. **Figure 4.10 (NC)**. Main challenge: Requires iterated CCX (Toffoli) gates whose\n",
    "controls and target qubits move according to a for loop.\n",
    "\n",
    "B. **Generalized Figure 4.6 (NC)** with the CX gates replaced by MCX gates, which is described\n",
    "in Lemma 7.9 (BBCDMSSSW). Main challenge: Requires a decomposition of MCX gates into single-qubit and CNOT gates. We got as far as implementing 4.6 on a 3-qubit register, but not for arbitrary $n$, as the $n=3$ case requires a decomposition of ccx gates, which we completed for Method A, but $n\\geq 4$ requires a decompsoition for general mcx.\n",
    "\n",
    "# Input\n",
    "1. First we'll give the user a space to input their unitary $U = R_z(\\phi)R_y(\\theta)R_z(\\lambda)$ by entering $\\phi$, $\\theta$, and $\\lambda$ as parameters.\n",
    "2. With $U$ fixed by choosing parameters, user can input $n$ into the function mcu(n), which will involve one or more sub-functions, either mcx(n) or iterations of ccx(c1,c2,tbit), depending on the method of implementation. For us, we only successfully implemented the latter in Method A.\n",
    "\n",
    "# Method A for implementing MCU\n",
    "\n",
    "1. (4.1 & 4.2, Nielsen-Chuang) Up to a global phase, any unitary $U$ can be decomposed as $AXBXC$ where $A,B,C\\in \\mathcal{U}(2)$ are single-qubit gates which satisfy $ABC=I$ and can be explicitly defined in terms of the initial inputs $\\phi$, $\\theta$, $\\lambda$:\n",
    "$$\n",
    "    A = R_z(\\phi)R_y(\\theta/2)\\\\\n",
    "    B = R_y(-\\theta/2)R_z(-(\\phi + \\lambda)/2)\\\\\n",
    "    C = R_z(-(\\phi-\\lambda)/2).\n",
    "$$\n",
    "\n",
    "2. (4.6, Nielsen-Chuang) The single-qubit controlled $U$-gate CU decomposes as $(I\\otimes A)\\circ CX \\circ (I\\otimes B) \\circ CX \\circ (I\\otimes B)$, where $I$ represents the identity on 1 qubit. "
   ]
  },
  {
   "cell_type": "markdown",
   "id": "d2e8d56c",
   "metadata": {},
   "source": [
    "**CU via Figure 4.6 (NC)**"
   ]
  },
  {
   "cell_type": "code",
   "execution_count": 236,
   "id": "df756949",
   "metadata": {},
   "outputs": [
    {
     "data": {
      "image/png": "[encoded data removed]",
      "text/plain": [
       "<Figure size 787.759x200.667 with 1 Axes>"
      ]
     },
     "execution_count": 236,
     "metadata": {},
     "output_type": "execute_result"
    }
   ],
   "source": [
    "\n",
    "n = 2\n",
    "cbits = range(0,n-1)\n",
    "\n",
    "#Parameters which define U\n",
    "\n",
    "al = Parameter(r\"$\\alpha$\")\n",
    "theta = Parameter(r\"$\\theta$\")\n",
    "phi = Parameter(r\"$\\phi$\")\n",
    "lam = Parameter(r\"$\\lambda$\")\n",
    "\n",
    "\n",
    "quantum_register = QuantumRegister(n,'x')\n",
    "cbits = list(range(0,n-1))\n",
    "\n",
    "Controlled_U_Circuit = QuantumCircuit(quantum_register)\n",
    "\n",
    "#Controlled_U_Circuit.mcp(al,cbits,n-1) #This would implement the e^(i\\alpha) part of U\n",
    "Controlled_U_Circuit.rz(-(phi-lam)/2,n-1) #Here is C\n",
    "Controlled_U_Circuit.mcx(cbits,n-1)\n",
    "Controlled_U_Circuit.rz(-(phi+lam)/2,n-1) #Here is B, part 1\n",
    "Controlled_U_Circuit.ry(-phi/2,n-1) #Here is B, part 2\n",
    "Controlled_U_Circuit.mcx(cbits,n-1)\n",
    "Controlled_U_Circuit.ry(theta/2,n-1) #Here is A, part 1\n",
    "Controlled_U_Circuit.rz(phi,n-1) #Here is A, part 2\n",
    "\n",
    "Controlled_U_Circuit.draw(output=\"mpl\", style=\"bw\")\n"
   ]
  },
  {
   "cell_type": "markdown",
   "id": "bc510713",
   "metadata": {},
   "source": [
    "**Nielsen-Chuang Figure 4.10**\n",
    "\n",
    "The picture above comes up in both Methods A and B. For Method A, we want to implement Figure 4.10 (NC), which includes $n+2$ ccx gates and a CU gate, as above. Although Method A is currently our only effective implementation, it is not very efficient given the number of ccx gates required, each of which has a time complexity of 10 (based on our coding of it). Below we give a decomposition of ccx using the transpile function and then code it in the subsequent block."
   ]
  },
  {
   "cell_type": "code",
   "execution_count": 219,
   "id": "07e3ea06",
   "metadata": {},
   "outputs": [
    {
     "data": {
      "image/png": "[encoded data removed]",
      "text/plain": [
       "<Figure size 1122.41x284.278 with 1 Axes>"
      ]
     },
     "execution_count": 219,
     "metadata": {},
     "output_type": "execute_result"
    }
   ],
   "source": [
    "#Decomposition of ccx\n",
    "\n",
    "qr = QuantumRegister(3,'x')\n",
    "qc = QuantumCircuit(qr)\n",
    "\n",
    "qc.ccx(0,1,2)\n",
    "decomposed_ccx = transpile(qc, basis_gates=['ry','p','t','s','h','u3','cx'])\n",
    "decomposed_ccx.draw(output=\"mpl\")"
   ]
  },
  {
   "cell_type": "markdown",
   "id": "d4085d4c",
   "metadata": {},
   "source": []
  },
  {
   "cell_type": "code",
   "execution_count": 240,
   "id": "044cff7d",
   "metadata": {},
   "outputs": [
    {
     "ename": "AttributeError",
     "evalue": "'int' object has no attribute 'items'",
     "output_type": "error",
     "traceback": [
      "\u001b[31m---------------------------------------------------------------------------\u001b[39m",
      "\u001b[31mAttributeError\u001b[39m                            Traceback (most recent call last)",
      "\u001b[36mCell\u001b[39m\u001b[36m \u001b[39m\u001b[32mIn[240]\u001b[39m\u001b[32m, line 18\u001b[39m\n\u001b[32m     16\u001b[39m control_u_circuit = QuantumCircuit(qr,ar,name = \u001b[33m'\u001b[39m\u001b[33mControlled U\u001b[39m\u001b[33m'\u001b[39m)\n\u001b[32m     17\u001b[39m control_u_circuit.u(theta,phi,lam,tbit)\n\u001b[32m---> \u001b[39m\u001b[32m18\u001b[39m control_u = \u001b[43mcontrol_u_circuit\u001b[49m\u001b[43m.\u001b[49m\u001b[43mto_gate\u001b[49m\u001b[43m(\u001b[49m\u001b[43mtbit\u001b[49m\u001b[43m)\u001b[49m.control(\u001b[32m1\u001b[39m)\n\u001b[32m     19\u001b[39m control_u_circuit.qubits = [cbit,tbit]\n\u001b[32m     23\u001b[39m mcu_qc = QuantumCircuit(qr,ar,name = \u001b[33m'\u001b[39m\u001b[33mMulti-controlled U\u001b[39m\u001b[33m'\u001b[39m)\n",
      "\u001b[36mFile \u001b[39m\u001b[32m/opt/anaconda3/envs/erdos_summer_2025/lib/python3.12/site-packages/qiskit/circuit/quantumcircuit.py:3364\u001b[39m, in \u001b[36mQuantumCircuit.to_gate\u001b[39m\u001b[34m(self, parameter_map, label)\u001b[39m\n\u001b[32m   3361\u001b[39m \u001b[38;5;66;03m# pylint: disable=cyclic-import\u001b[39;00m\n\u001b[32m   3362\u001b[39m \u001b[38;5;28;01mfrom\u001b[39;00m\u001b[38;5;250m \u001b[39m\u001b[34;01mqiskit\u001b[39;00m\u001b[34;01m.\u001b[39;00m\u001b[34;01mconverters\u001b[39;00m\u001b[34;01m.\u001b[39;00m\u001b[34;01mcircuit_to_gate\u001b[39;00m\u001b[38;5;250m \u001b[39m\u001b[38;5;28;01mimport\u001b[39;00m circuit_to_gate\n\u001b[32m-> \u001b[39m\u001b[32m3364\u001b[39m \u001b[38;5;28;01mreturn\u001b[39;00m \u001b[43mcircuit_to_gate\u001b[49m\u001b[43m(\u001b[49m\u001b[38;5;28;43mself\u001b[39;49m\u001b[43m,\u001b[49m\u001b[43m \u001b[49m\u001b[43mparameter_map\u001b[49m\u001b[43m,\u001b[49m\u001b[43m \u001b[49m\u001b[43mlabel\u001b[49m\u001b[43m=\u001b[49m\u001b[43mlabel\u001b[49m\u001b[43m)\u001b[49m\n",
      "\u001b[36mFile \u001b[39m\u001b[32m/opt/anaconda3/envs/erdos_summer_2025/lib/python3.12/site-packages/qiskit/converters/circuit_to_gate.py:74\u001b[39m, in \u001b[36mcircuit_to_gate\u001b[39m\u001b[34m(circuit, parameter_map, equivalence_library, label)\u001b[39m\n\u001b[32m     72\u001b[39m     parameter_dict = {p: p \u001b[38;5;28;01mfor\u001b[39;00m p \u001b[38;5;129;01min\u001b[39;00m circuit.parameters}\n\u001b[32m     73\u001b[39m \u001b[38;5;28;01melse\u001b[39;00m:\n\u001b[32m---> \u001b[39m\u001b[32m74\u001b[39m     parameter_dict = \u001b[43mcircuit\u001b[49m\u001b[43m.\u001b[49m\u001b[43m_unroll_param_dict\u001b[49m\u001b[43m(\u001b[49m\u001b[43mparameter_map\u001b[49m\u001b[43m)\u001b[49m\n\u001b[32m     76\u001b[39m \u001b[38;5;28;01mif\u001b[39;00m parameter_dict.keys() != circuit.parameters:\n\u001b[32m     77\u001b[39m     \u001b[38;5;28;01mraise\u001b[39;00m QiskitError(\n\u001b[32m     78\u001b[39m         \u001b[33m\"\u001b[39m\u001b[33mparameter_map should map all circuit parameters. \u001b[39m\u001b[33m\"\u001b[39m\n\u001b[32m     79\u001b[39m         \u001b[33mf\u001b[39m\u001b[33m\"\u001b[39m\u001b[33mCircuit parameters: \u001b[39m\u001b[38;5;132;01m{\u001b[39;00mcircuit.parameters\u001b[38;5;132;01m}\u001b[39;00m\u001b[33m, parameter_map: \u001b[39m\u001b[38;5;132;01m{\u001b[39;00mparameter_dict\u001b[38;5;132;01m}\u001b[39;00m\u001b[33m\"\u001b[39m\n\u001b[32m     80\u001b[39m     )\n",
      "\u001b[36mFile \u001b[39m\u001b[32m/opt/anaconda3/envs/erdos_summer_2025/lib/python3.12/site-packages/qiskit/circuit/quantumcircuit.py:4501\u001b[39m, in \u001b[36mQuantumCircuit._unroll_param_dict\u001b[39m\u001b[34m(self, parameter_binds)\u001b[39m\n\u001b[32m   4497\u001b[39m \u001b[38;5;28;01mdef\u001b[39;00m\u001b[38;5;250m \u001b[39m\u001b[34m_unroll_param_dict\u001b[39m(\n\u001b[32m   4498\u001b[39m     \u001b[38;5;28mself\u001b[39m, parameter_binds: Mapping[Parameter, ParameterValueType]\n\u001b[32m   4499\u001b[39m ) -> Mapping[Parameter, ParameterValueType]:\n\u001b[32m   4500\u001b[39m     out = {}\n\u001b[32m-> \u001b[39m\u001b[32m4501\u001b[39m     \u001b[38;5;28;01mfor\u001b[39;00m parameter, value \u001b[38;5;129;01min\u001b[39;00m \u001b[43mparameter_binds\u001b[49m\u001b[43m.\u001b[49m\u001b[43mitems\u001b[49m():\n\u001b[32m   4502\u001b[39m         \u001b[38;5;28;01mif\u001b[39;00m \u001b[38;5;28misinstance\u001b[39m(parameter, ParameterVector):\n\u001b[32m   4503\u001b[39m             \u001b[38;5;28;01mif\u001b[39;00m \u001b[38;5;28mlen\u001b[39m(parameter) != \u001b[38;5;28mlen\u001b[39m(value):\n",
      "\u001b[31mAttributeError\u001b[39m: 'int' object has no attribute 'items'"
     ]
    }
   ],
   "source": [
    "n = 5 #Make sure this n matches the n in the previous code box for \n",
    "#the decomposition of the Toffoli (ccx) gate.\n",
    "tbit = n-1 #last qubit in main register\n",
    "cbit = -1 #last ancilla qubit\n",
    "\n",
    "#Parameters defining U\n",
    "#al = Parameter(r\"$\\alpha$\")\n",
    "theta = Parameter(r\"$\\theta$\")\n",
    "phi = Parameter(r\"$\\phi$\")\n",
    "lam = Parameter(r\"$\\lambda$\")\n",
    "\n",
    "qr = QuantumRegister(n,'x')\n",
    "ar = AncillaRegister(n-2,'a')\n",
    "\n",
    "#defining controlled U\n",
    "control_u_circuit = QuantumCircuit(qr,ar,name = 'Controlled U')\n",
    "control_u_circuit.u(theta,phi,lam,tbit)\n",
    "control_u = control_u_circuit.to_gate(tbit).control(1)\n",
    "control_u_circuit.qubits = [cbit,tbit]\n",
    "\n",
    "\n",
    "\n",
    "mcu_qc = QuantumCircuit(qr,ar,name = 'Multi-controlled U')\n",
    "\n",
    "#The first Toffoli gate in Figure 4.10 always has the 0,1 qubits as controls\n",
    "#and the first ancilla bit (-(n-2)) as the target.\n",
    "\n",
    "mcu_qc.ccx(0,1,-(n-2)) \n",
    "    \n",
    "\n",
    "#Now we'll apply the iterated Toffoli gates before the controlled U gate.\n",
    "\n",
    "for i in range(2,n-1):\n",
    "    mcu_qc.ccx(i,i+(n-2),i+n-1) \n",
    "\n",
    "mcu_qc.barrier()\n",
    "\n",
    "#\n",
    "\n",
    "#Here we apply U to the last qubit, whose decomposition we will show in a later step.\n",
    "\n",
    "mcu_qc.append(control_u, control_u_circuit.qubits)\n",
    "#\n",
    "\n",
    "mcu_qc.barrier()\n",
    "\n",
    "#Now we'll apply the rest of the iterated Toffoli gates following the controlled U gate.\n",
    "\n",
    "for i in reversed(range(2,n-1)):\n",
    "    mcu_qc.ccx(i,i+(n-2),i+n-1) \n",
    "\n",
    "#The last Toffoli gate in Figure 4.10 always has the 0,1 qubits as controls\n",
    "#and the first ancilla bit (-(n-2)) as the target.\n",
    "\n",
    "mcu_qc.ccx(0,1,-(n-2)) \n",
    "\n",
    "mcu_qc.draw(output=\"mpl\")"
   ]
  },
  {
   "cell_type": "markdown",
   "id": "5adb73e8",
   "metadata": {},
   "source": [
    "# CCX (Toffoli) decomposition\n",
    "\n",
    "Here we give a decomposition of CCX inside a register of size $2n-2$ (to allow for an $n-2$-bit ancilla register) where the control bits, c1 and c2, and the target bit, tbit, can be chosen."
   ]
  },
  {
   "cell_type": "code",
   "execution_count": null,
   "id": "b493ceb3",
   "metadata": {},
   "outputs": [
    {
     "data": {
      "image/png": "[encoded data removed]",
      "text/plain": [
       "<Figure size 1038.79x702.333 with 1 Axes>"
      ]
     },
     "execution_count": 206,
     "metadata": {},
     "output_type": "execute_result"
    }
   ],
   "source": [
    "## Here is a decomposition of the Toffoli gate \n",
    "# on a 2n-2 qubit register (size needed for next step)\n",
    "\n",
    "n = 5 #number of bits in quantum register (not including ancilla)\n",
    "#2n-2 is how many total bits will be in combined register for \n",
    "#implementing mcu\n",
    "\n",
    "c1 = 1 #one of the two control bits\n",
    "c2 = 5 #one of the two control bits\n",
    "tbit = 2 #target bit\n",
    "\n",
    "\n",
    "qr = QuantumRegister(2*n-2,'x')#\n",
    "qc_ccx = QuantumCircuit(qr)\n",
    "\n",
    "#This is just copied from transpile of ccx above\n",
    "\n",
    "def ccx(c1,c2,tbit):\n",
    "    qc_ccx.h(tbit)\n",
    "    qc_ccx.cx(c2,tbit)\n",
    "    qc_ccx.p(-np.pi/4,tbit)\n",
    "    qc_ccx.cx(c1,tbit)\n",
    "    qc_ccx.t(tbit)\n",
    "    qc_ccx.cx(c2,tbit)\n",
    "    qc_ccx.t(c2)\n",
    "    qc_ccx.p(-np.pi/4,tbit)\n",
    "    qc_ccx.cx(c1,tbit)\n",
    "    qc_ccx.u(np.pi/2,0,-3*np.pi/4,tbit)\n",
    "    qc_ccx.t(c1)\n",
    "    qc_ccx.p(-np.pi/4,c2)\n",
    "    qc_ccx.cx(c1,c2)\n",
    "    return qc_ccx\n",
    "\n",
    "#qc_ccx.compose(ccx(c1,c2,tbit),inplace = True)\n",
    "ccx(c1,c2,tbit)\n",
    "\n",
    "qc_ccx.draw(output=\"mpl\")\n",
    "\n"
   ]
  },
  {
   "cell_type": "markdown",
   "id": "7ab4cbb1",
   "metadata": {},
   "source": [
    "Note that this decomposition of the Toffoli gate has a time complexity of 10, while a common decomposition of the same gate using only the H, T, Tdag, S, and CX gates as in Figure 4.9 (NC) has a time complexity of 13. "
   ]
  },
  {
   "cell_type": "markdown",
   "id": "1c3c418d",
   "metadata": {},
   "source": [
    "We will now use our decomposition of ccx above to implement Method B with only single-qubit and CNOT gates."
   ]
  },
  {
   "cell_type": "code",
   "execution_count": 226,
   "id": "f2fd7dd7",
   "metadata": {
    "tags": [
     "N-C 4.10"
    ]
   },
   "outputs": [],
   "source": [
    "n = 5 #Make sure this n matches the n in the previous code box for \n",
    "#the decomposition of the Toffoli (ccx) gate.\n",
    "\n",
    "al = Parameter(r\"$\\alpha$\")\n",
    "theta = Parameter(r\"$\\theta$\")\n",
    "phi = Parameter(r\"$\\phi$\")\n",
    "lam = Parameter(r\"$\\lambda$\")\n",
    "\n",
    "\n",
    "qr = QuantumRegister(n,'x')\n",
    "ar = AncillaRegister(n-2,'a')\n",
    "\n",
    "mcu_qc = QuantumCircuit(qr,ar,name = 'Multi-controlled X')\n",
    "\n",
    "#The first Toffoli gate in Figure 4.10 always has the 0,1 qubits as controls\n",
    "#and the first ancilla bit (-(n-2)) as the target.\n",
    "\n",
    "    ##Pick one of the following two to uncomment:\n",
    "mcu_qc.compose(ccx(0,1,-(n-2)),inplace = True) #Uncomment to decompose ccx\n",
    "#mcu_qc.ccx(0,1,-(n-2)) #Uncomment to compress ccx\n",
    "    ##\n",
    "\n",
    "#Now we'll apply the iterated Toffoli gates before the controlled U gate.\n",
    "\n",
    "for i in range(2,n-1):\n",
    "        ##Pick one of the following two to uncomment:\n",
    "    mcu_qc.compose(ccx(i,i+(n-2),i+(n-1)),inplace = True) #Uncomment to decompose ccx\n",
    "    #mcu_qc.ccx(i,i+(n-2),i+n-1) #Uncomment to compress ccx\n",
    "        ##\n",
    "\n",
    "mcu_qc.barrier()\n",
    "\n",
    "#Here we have U decomposed using Figure 4.6 (code written earlier).\n",
    "\n",
    "#Begin controlled U gate #\n",
    "mcu_qc.rz(-(phi-lam)/2,n-1)\n",
    "mcu_qc.cx(-1,n-1)\n",
    "mcu_qc.rz(-(phi+lam)/2,n-1)\n",
    "mcu_qc.ry(-phi/2,n-1)\n",
    "mcu_qc.cx(-1,n-1)\n",
    "mcu_qc.ry(theta/2,n-1)\n",
    "mcu_qc.rz(phi,n-1)\n",
    "# End controlled U gate#\n",
    "\n",
    "mcu_qc.barrier()\n",
    "\n",
    "#Now we'll apply the rest of the iterated Toffoli gates following the controlled U gate.\n",
    "\n",
    "for i in reversed(range(2,n-1)):\n",
    "        ##Pick one of the following two to uncomment:\n",
    "    mcu_qc.compose(ccx(i,i+(n-2),i+(n-1)),inplace = True) #Uncommenting decomposes ccx\n",
    "    #mcu_qc.ccx(i,i+(n-2),i+n-1) #Uncommenting compresses ccx\n",
    "        ##\n",
    "\n",
    "#The last Toffoli gate in Figure 4.10 always has the 0,1 qubits as controls\n",
    "#and the first ancilla bit (-(n-2)) as the target.\n",
    "\n",
    "    ##Pick one of the following two to uncomment:\n",
    "mcu_qc.compose(ccx(0,1,-(n-2)),inplace = True) #Uncommenting this decomposes ccx\n",
    "#mcu_qc.ccx(0,1,-(n-2)) #Uncommenting this compresses ccx\n",
    "    ##\n",
    "\n",
    "#mcu_qc.draw(output=\"mpl\")"
   ]
  },
  {
   "cell_type": "markdown",
   "id": "068d4c95",
   "metadata": {
    "tags": [
     "Complexity"
    ]
   },
   "source": [
    "# Complexity\n",
    "\n",
    "Our implementation of mcx on an $n$-qubit register has a fixed time complexity of 11 involving cx, t, h, and p($\\pi/4$), regardless of $n$. Our implementation of $A$, $B$, and $C$ in the decomposition for $U$ requires 5 gates involving rz and ry, only. The total time complexity, then for implementing our $mcu(n,U)$ is 27, given that we apply the mcx gate twice in a single iteration of our mcu circuit."
   ]
  },
  {
   "cell_type": "markdown",
   "id": "bf117bd1",
   "metadata": {},
   "source": [
    "\n",
    "\n",
    "\n",
    "\n",
    "\n",
    "\n",
    "\n",
    "\n",
    "Below here is stuff we probably won't use."
   ]
  },
  {
   "cell_type": "markdown",
   "id": "079c1ff4",
   "metadata": {},
   "source": [
    "# Method B: Generalization of Figure 4.6 using MCX\n",
    "\n",
    "\n",
    "\n"
   ]
  },
  {
   "cell_type": "code",
   "execution_count": 64,
   "id": "dc9a856f",
   "metadata": {},
   "outputs": [
    {
     "ename": "CircuitError",
     "evalue": "'duplicate qubit arguments'",
     "output_type": "error",
     "traceback": [
      "\u001b[31m---------------------------------------------------------------------------\u001b[39m",
      "\u001b[31mCircuitError\u001b[39m                              Traceback (most recent call last)",
      "\u001b[36mCell\u001b[39m\u001b[36m \u001b[39m\u001b[32mIn[64]\u001b[39m\u001b[32m, line 25\u001b[39m\n\u001b[32m     20\u001b[39m     quantum_circuit.h(n-\u001b[32m1\u001b[39m) \n\u001b[32m     21\u001b[39m     \u001b[38;5;28;01mreturn\u001b[39;00m quantum_circuit   \n\u001b[32m---> \u001b[39m\u001b[32m25\u001b[39m quantum_circuit.compose(\u001b[43mmcx\u001b[49m\u001b[43m(\u001b[49m\u001b[43mn\u001b[49m\u001b[43m)\u001b[49m,inplace = \u001b[38;5;28;01mTrue\u001b[39;00m)\n\u001b[32m     26\u001b[39m quantum_circuit.draw(output=\u001b[33m\"\u001b[39m\u001b[33mmpl\u001b[39m\u001b[33m\"\u001b[39m)\n",
      "\u001b[36mCell\u001b[39m\u001b[36m \u001b[39m\u001b[32mIn[64]\u001b[39m\u001b[32m, line 12\u001b[39m, in \u001b[36mmcx\u001b[39m\u001b[34m(n)\u001b[39m\n\u001b[32m     10\u001b[39m \u001b[38;5;28;01mfor\u001b[39;00m j \u001b[38;5;129;01min\u001b[39;00m \u001b[38;5;28mrange\u001b[39m(\u001b[32m1\u001b[39m,n):\n\u001b[32m     11\u001b[39m     \u001b[38;5;28;01mfor\u001b[39;00m i \u001b[38;5;129;01min\u001b[39;00m \u001b[38;5;28mrange\u001b[39m(\u001b[32m2\u001b[39m**j):\n\u001b[32m---> \u001b[39m\u001b[32m12\u001b[39m         \u001b[43mquantum_circuit\u001b[49m\u001b[43m.\u001b[49m\u001b[43mcx\u001b[49m\u001b[43m(\u001b[49m\u001b[43mi\u001b[49m\u001b[43m,\u001b[49m\u001b[43mj\u001b[49m\u001b[43m)\u001b[49m\n\u001b[32m     13\u001b[39m         quantum_circuit.p(-np.pi/\u001b[32m8\u001b[39m,j)\n\u001b[32m     14\u001b[39m         \u001b[38;5;66;03m#if i % 2**(j-1)==1:\u001b[39;00m\n\u001b[32m     15\u001b[39m          \u001b[38;5;66;03m#   quantum_circuit.cx(j-i-1,j)     \u001b[39;00m\n\u001b[32m     16\u001b[39m         \u001b[38;5;66;03m#else:\u001b[39;00m\n\u001b[32m     17\u001b[39m         \u001b[38;5;66;03m#    i=i+1 #next i!\u001b[39;00m\n\u001b[32m     18\u001b[39m          \u001b[38;5;66;03m#   quantum_circuit.p(np.pi/8,j)\u001b[39;00m\n",
      "\u001b[36mFile \u001b[39m\u001b[32m/opt/anaconda3/envs/erdos_summer_2025/lib/python3.12/site-packages/qiskit/circuit/quantumcircuit.py:5635\u001b[39m, in \u001b[36mQuantumCircuit.cx\u001b[39m\u001b[34m(self, control_qubit, target_qubit, label, ctrl_state)\u001b[39m\n\u001b[32m   5633\u001b[39m \u001b[38;5;66;03m# if the control state is |1> use the fast Rust version of the gate\u001b[39;00m\n\u001b[32m   5634\u001b[39m \u001b[38;5;28;01mif\u001b[39;00m ctrl_state \u001b[38;5;129;01mis\u001b[39;00m \u001b[38;5;28;01mNone\u001b[39;00m \u001b[38;5;129;01mor\u001b[39;00m ctrl_state \u001b[38;5;129;01min\u001b[39;00m [\u001b[33m\"\u001b[39m\u001b[33m1\u001b[39m\u001b[33m\"\u001b[39m, \u001b[32m1\u001b[39m]:\n\u001b[32m-> \u001b[39m\u001b[32m5635\u001b[39m     \u001b[38;5;28;01mreturn\u001b[39;00m \u001b[38;5;28;43mself\u001b[39;49m\u001b[43m.\u001b[49m\u001b[43m_append_standard_gate\u001b[49m\u001b[43m(\u001b[49m\n\u001b[32m   5636\u001b[39m \u001b[43m        \u001b[49m\u001b[43mStandardGate\u001b[49m\u001b[43m.\u001b[49m\u001b[43mCXGate\u001b[49m\u001b[43m,\u001b[49m\n\u001b[32m   5637\u001b[39m \u001b[43m        \u001b[49m\u001b[43m[\u001b[49m\u001b[43mcontrol_qubit\u001b[49m\u001b[43m,\u001b[49m\u001b[43m \u001b[49m\u001b[43mtarget_qubit\u001b[49m\u001b[43m]\u001b[49m\u001b[43m,\u001b[49m\n\u001b[32m   5638\u001b[39m \u001b[43m        \u001b[49m\u001b[43m(\u001b[49m\u001b[43m)\u001b[49m\u001b[43m,\u001b[49m\n\u001b[32m   5639\u001b[39m \u001b[43m        \u001b[49m\u001b[43mlabel\u001b[49m\u001b[43m=\u001b[49m\u001b[43mlabel\u001b[49m\u001b[43m,\u001b[49m\n\u001b[32m   5640\u001b[39m \u001b[43m    \u001b[49m\u001b[43m)\u001b[49m\n\u001b[32m   5642\u001b[39m \u001b[38;5;28;01mfrom\u001b[39;00m\u001b[38;5;250m \u001b[39m\u001b[34;01m.\u001b[39;00m\u001b[34;01mlibrary\u001b[39;00m\u001b[34;01m.\u001b[39;00m\u001b[34;01mstandard_gates\u001b[39;00m\u001b[34;01m.\u001b[39;00m\u001b[34;01mx\u001b[39;00m\u001b[38;5;250m \u001b[39m\u001b[38;5;28;01mimport\u001b[39;00m CXGate\n\u001b[32m   5644\u001b[39m \u001b[38;5;28;01mreturn\u001b[39;00m \u001b[38;5;28mself\u001b[39m.append(\n\u001b[32m   5645\u001b[39m     CXGate(label=label, ctrl_state=ctrl_state),\n\u001b[32m   5646\u001b[39m     [control_qubit, target_qubit],\n\u001b[32m   5647\u001b[39m     [],\n\u001b[32m   5648\u001b[39m     copy=\u001b[38;5;28;01mFalse\u001b[39;00m,\n\u001b[32m   5649\u001b[39m )\n",
      "\u001b[36mFile \u001b[39m\u001b[32m/opt/anaconda3/envs/erdos_summer_2025/lib/python3.12/site-packages/qiskit/circuit/quantumcircuit.py:2393\u001b[39m, in \u001b[36mQuantumCircuit._append_standard_gate\u001b[39m\u001b[34m(self, op, qargs, params, label)\u001b[39m\n\u001b[32m   2391\u001b[39m instructions = InstructionSet(resource_requester=circuit_scope.resolve_classical_resource)\n\u001b[32m   2392\u001b[39m \u001b[38;5;28;01mfor\u001b[39;00m qarg, _ \u001b[38;5;129;01min\u001b[39;00m Gate.broadcast_arguments(op, expanded_qargs, []):\n\u001b[32m-> \u001b[39m\u001b[32m2393\u001b[39m     \u001b[38;5;28;43mself\u001b[39;49m\u001b[43m.\u001b[49m\u001b[43m_check_dups\u001b[49m\u001b[43m(\u001b[49m\u001b[43mqarg\u001b[49m\u001b[43m)\u001b[49m\n\u001b[32m   2394\u001b[39m     instruction = CircuitInstruction.from_standard(op, qarg, params, label=label)\n\u001b[32m   2395\u001b[39m     circuit_scope.append(instruction, _standard_gate=\u001b[38;5;28;01mTrue\u001b[39;00m)\n",
      "\u001b[36mFile \u001b[39m\u001b[32m/opt/anaconda3/envs/erdos_summer_2025/lib/python3.12/site-packages/qiskit/circuit/quantumcircuit.py:3311\u001b[39m, in \u001b[36mQuantumCircuit._check_dups\u001b[39m\u001b[34m(self, qubits)\u001b[39m\n\u001b[32m   3309\u001b[39m \u001b[38;5;28;01mdef\u001b[39;00m\u001b[38;5;250m \u001b[39m\u001b[34m_check_dups\u001b[39m(\u001b[38;5;28mself\u001b[39m, qubits: Sequence[Qubit]) -> \u001b[38;5;28;01mNone\u001b[39;00m:\n\u001b[32m   3310\u001b[39m \u001b[38;5;250m    \u001b[39m\u001b[33;03m\"\"\"Raise exception if list of qubits contains duplicates.\"\"\"\u001b[39;00m\n\u001b[32m-> \u001b[39m\u001b[32m3311\u001b[39m     \u001b[43mCircuitData\u001b[49m\u001b[43m.\u001b[49m\u001b[43m_check_dups\u001b[49m\u001b[43m(\u001b[49m\u001b[43mqubits\u001b[49m\u001b[43m)\u001b[49m\n",
      "\u001b[31mCircuitError\u001b[39m: 'duplicate qubit arguments'"
     ]
    }
   ],
   "source": [
    "#Let's try to define a function which will implement this.\n",
    "\n",
    "n = 3\n",
    "quantum_register = QuantumRegister(n,'x')\n",
    "quantum_circuit = QuantumCircuit(quantum_register, name='decompose mcx')\n",
    "\n",
    "def mcx(n):\n",
    "    quantum_circuit.p(np.pi/8,cbits)\n",
    "    quantum_circuit.u(np.pi/2,np.pi/8,-np.pi,n-1)\n",
    "    for j in range(1,n):\n",
    "        for i in range(2**j):\n",
    "            quantum_circuit.cx(i,j)\n",
    "            quantum_circuit.p(-np.pi/8,j)\n",
    "            #if i % 2**(j-1)==1:\n",
    "             #   quantum_circuit.cx(j-i-1,j)     \n",
    "            #else:\n",
    "            #    i=i+1 #next i!\n",
    "             #   quantum_circuit.p(np.pi/8,j)\n",
    "            quantum_circuit.barrier()\n",
    "    quantum_circuit.h(n-1) \n",
    "    return quantum_circuit   \n",
    "               \n",
    "\n",
    "\n",
    "quantum_circuit.compose(mcx(n),inplace = True)\n",
    "quantum_circuit.draw(output=\"mpl\")\n"
   ]
  },
  {
   "cell_type": "code",
   "execution_count": null,
   "id": "0a08dd77",
   "metadata": {},
   "outputs": [
    {
     "ename": "NameError",
     "evalue": "name 'app_C' is not defined",
     "output_type": "error",
     "traceback": [
      "\u001b[31m---------------------------------------------------------------------------\u001b[39m",
      "\u001b[31mNameError\u001b[39m                                 Traceback (most recent call last)",
      "\u001b[36mCell\u001b[39m\u001b[36m \u001b[39m\u001b[32mIn[9]\u001b[39m\u001b[32m, line 8\u001b[39m\n\u001b[32m      5\u001b[39m quantum_circuit  = QuantumCircuit(quantum_register, name = \u001b[33m'\u001b[39m\u001b[33mbase\u001b[39m\u001b[33m'\u001b[39m)\n\u001b[32m      7\u001b[39m quantum_circuit.cp(al,cbits,n-\u001b[32m1\u001b[39m)\n\u001b[32m----> \u001b[39m\u001b[32m8\u001b[39m quantum_circuit.compose(\u001b[43mapp_C\u001b[49m, inplace=\u001b[38;5;28;01mTrue\u001b[39;00m)\n\u001b[32m      9\u001b[39m quantum_circuit.mcx(cbits,n-\u001b[32m1\u001b[39m)\n\u001b[32m     10\u001b[39m quantum_circuit.compose(app_B, inplace=\u001b[38;5;28;01mTrue\u001b[39;00m)\n",
      "\u001b[31mNameError\u001b[39m: name 'app_C' is not defined"
     ]
    }
   ],
   "source": [
    "n = 3\n",
    "cbits = list(range(0,n-1))\n",
    "\n",
    "quantum_register = QuantumRegister(n,'x')\n",
    "quantum_circuit  = QuantumCircuit(quantum_register, name = 'base')\n",
    "\n",
    "quantum_circuit.cp(al,cbits,n-1)\n",
    "quantum_circuit.compose(app_C, inplace=True)\n",
    "quantum_circuit.mcx(cbits,n-1)\n",
    "quantum_circuit.compose(app_B, inplace=True)\n",
    "quantum_circuit.mcx(cbits,n-1)\n",
    "quantum_circuit.compose(app_A, inplace=True)\n",
    "\n",
    "quantum_circuit.draw(output=\"mpl\")\n",
    "\n"
   ]
  },
  {
   "cell_type": "code",
   "execution_count": null,
   "id": "e451903c",
   "metadata": {},
   "outputs": [
    {
     "data": {
      "image/png": "[encoded data removed]",
      "text/plain": [
       "<Figure size 1122.41x284.278 with 1 Axes>"
      ]
     },
     "execution_count": 11,
     "metadata": {},
     "output_type": "execute_result"
    }
   ],
   "source": [
    "decomposed_qc = transpile(qc, basis_gates=['u3', 'cx'])\n",
    "\n",
    "decomposed_qc.draw(output=\"mpl\", style=\"bw\")"
   ]
  },
  {
   "cell_type": "code",
   "execution_count": null,
   "id": "f0408d6b",
   "metadata": {},
   "outputs": [],
   "source": []
  }
 ],
 "metadata": {
  "kernelspec": {
   "display_name": "erdos_summer_2025",
   "language": "python",
   "name": "python3"
  },
  "language_info": {
   "codemirror_mode": {
    "name": "ipython",
    "version": 3
   },
   "file_extension": ".py",
   "mimetype": "text/x-python",
   "name": "python",
   "nbconvert_exporter": "python",
   "pygments_lexer": "ipython3",
   "version": "3.12.10"
  }
 },
 "nbformat": 4,
 "nbformat_minor": 5
}
